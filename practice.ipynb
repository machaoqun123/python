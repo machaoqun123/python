{
 "cells": [
  {
   "cell_type": "code",
   "execution_count": 2,
   "id": "9e59b313",
   "metadata": {},
   "outputs": [],
   "source": [
    "from __future__ import print_function\n",
    "import torch"
   ]
  },
  {
   "cell_type": "code",
   "execution_count": 3,
   "id": "329df39c",
   "metadata": {},
   "outputs": [],
   "source": [
    "x = torch.Tensor(5,3)\n",
    "x = torch.rand(5,3)"
   ]
  },
  {
   "cell_type": "code",
   "execution_count": 4,
   "id": "45d8c69a",
   "metadata": {},
   "outputs": [
    {
     "data": {
      "text/plain": [
       "tensor([[0.4392, 0.5887, 0.5887],\n",
       "        [0.3625, 0.3976, 0.2391],\n",
       "        [0.1869, 0.2187, 0.7701],\n",
       "        [0.5841, 0.5910, 0.6626],\n",
       "        [0.8980, 0.0096, 0.4079]])"
      ]
     },
     "execution_count": 4,
     "metadata": {},
     "output_type": "execute_result"
    }
   ],
   "source": [
    "x"
   ]
  },
  {
   "cell_type": "code",
   "execution_count": 5,
   "id": "8d1c0d28",
   "metadata": {},
   "outputs": [
    {
     "data": {
      "text/plain": [
       "torch.Size([5, 3])"
      ]
     },
     "execution_count": 5,
     "metadata": {},
     "output_type": "execute_result"
    }
   ],
   "source": [
    "x.size()"
   ]
  },
  {
   "cell_type": "code",
   "execution_count": 9,
   "id": "7ced5781",
   "metadata": {},
   "outputs": [],
   "source": [
    "y = torch.rand(5,3)"
   ]
  },
  {
   "cell_type": "code",
   "execution_count": 8,
   "id": "5e801b90",
   "metadata": {},
   "outputs": [
    {
     "data": {
      "text/plain": [
       "tensor([[1.4100, 0.9655, 1.0201],\n",
       "        [0.7220, 0.6935, 1.1196],\n",
       "        [0.8161, 0.2690, 1.6136],\n",
       "        [1.3751, 0.7224, 0.9884],\n",
       "        [1.7628, 0.9849, 1.2975]])"
      ]
     },
     "execution_count": 8,
     "metadata": {},
     "output_type": "execute_result"
    }
   ],
   "source": [
    "x+y"
   ]
  },
  {
   "cell_type": "code",
   "execution_count": 10,
   "id": "557049bd",
   "metadata": {},
   "outputs": [
    {
     "data": {
      "text/plain": [
       "tensor([[1.1142, 1.3795, 1.0238],\n",
       "        [0.7915, 0.4429, 1.0217],\n",
       "        [0.5730, 0.8696, 1.3534],\n",
       "        [1.4925, 1.3232, 1.3062],\n",
       "        [1.8547, 0.0908, 0.9004]])"
      ]
     },
     "execution_count": 10,
     "metadata": {},
     "output_type": "execute_result"
    }
   ],
   "source": [
    "torch.add(x,y)"
   ]
  },
  {
   "cell_type": "code",
   "execution_count": 12,
   "id": "1f37c73e",
   "metadata": {},
   "outputs": [],
   "source": [
    "result = torch.Tensor(5,3)"
   ]
  },
  {
   "cell_type": "code",
   "execution_count": 13,
   "id": "2b699b92",
   "metadata": {},
   "outputs": [
    {
     "data": {
      "text/plain": [
       "tensor([[1.1142, 1.3795, 1.0238],\n",
       "        [0.7915, 0.4429, 1.0217],\n",
       "        [0.5730, 0.8696, 1.3534],\n",
       "        [1.4925, 1.3232, 1.3062],\n",
       "        [1.8547, 0.0908, 0.9004]])"
      ]
     },
     "execution_count": 13,
     "metadata": {},
     "output_type": "execute_result"
    }
   ],
   "source": [
    "torch.add(x,y,out=result)"
   ]
  },
  {
   "cell_type": "code",
   "execution_count": 14,
   "id": "a2d30a23",
   "metadata": {},
   "outputs": [
    {
     "data": {
      "text/plain": [
       "tensor([[1.1142, 1.3795, 1.0238],\n",
       "        [0.7915, 0.4429, 1.0217],\n",
       "        [0.5730, 0.8696, 1.3534],\n",
       "        [1.4925, 1.3232, 1.3062],\n",
       "        [1.8547, 0.0908, 0.9004]])"
      ]
     },
     "execution_count": 14,
     "metadata": {},
     "output_type": "execute_result"
    }
   ],
   "source": [
    "y.add_(x)"
   ]
  },
  {
   "cell_type": "code",
   "execution_count": 15,
   "id": "a75ad2fd",
   "metadata": {},
   "outputs": [],
   "source": [
    "a = torch.ones(5)"
   ]
  },
  {
   "cell_type": "code",
   "execution_count": 16,
   "id": "6fc0960b",
   "metadata": {},
   "outputs": [],
   "source": [
    "b = a.numpy()"
   ]
  },
  {
   "cell_type": "code",
   "execution_count": 17,
   "id": "d1abdd13",
   "metadata": {},
   "outputs": [
    {
     "data": {
      "text/plain": [
       "tensor([2., 2., 2., 2., 2.])"
      ]
     },
     "execution_count": 17,
     "metadata": {},
     "output_type": "execute_result"
    }
   ],
   "source": [
    "a.add_(1)"
   ]
  },
  {
   "cell_type": "code",
   "execution_count": 18,
   "id": "c2a2e9b8",
   "metadata": {},
   "outputs": [
    {
     "name": "stdout",
     "output_type": "stream",
     "text": [
      "tensor([2., 2., 2., 2., 2.])\n"
     ]
    }
   ],
   "source": [
    "print(a)"
   ]
  },
  {
   "cell_type": "code",
   "execution_count": 19,
   "id": "374166af",
   "metadata": {},
   "outputs": [
    {
     "name": "stdout",
     "output_type": "stream",
     "text": [
      "[2. 2. 2. 2. 2.]\n"
     ]
    }
   ],
   "source": [
    "print(b)"
   ]
  },
  {
   "cell_type": "code",
   "execution_count": 20,
   "id": "21d13d27",
   "metadata": {},
   "outputs": [],
   "source": [
    "from torch.autograd import Variable"
   ]
  },
  {
   "cell_type": "code",
   "execution_count": 21,
   "id": "a8a53696",
   "metadata": {},
   "outputs": [],
   "source": [
    "x = Variable(torch.ones(2,2), requires_grad = True)"
   ]
  },
  {
   "cell_type": "code",
   "execution_count": 22,
   "id": "ccac3e54",
   "metadata": {},
   "outputs": [],
   "source": [
    "y = x +2"
   ]
  },
  {
   "cell_type": "code",
   "execution_count": 23,
   "id": "1ee00973",
   "metadata": {},
   "outputs": [
    {
     "data": {
      "text/plain": [
       "tensor([[1., 1.],\n",
       "        [1., 1.]], requires_grad=True)"
      ]
     },
     "execution_count": 23,
     "metadata": {},
     "output_type": "execute_result"
    }
   ],
   "source": [
    "x"
   ]
  },
  {
   "cell_type": "code",
   "execution_count": 25,
   "id": "12d6eb85",
   "metadata": {},
   "outputs": [
    {
     "data": {
      "text/plain": [
       "<AddBackward0 at 0x12ab25280>"
      ]
     },
     "execution_count": 25,
     "metadata": {},
     "output_type": "execute_result"
    }
   ],
   "source": [
    "y.grad_fn"
   ]
  },
  {
   "cell_type": "code",
   "execution_count": 26,
   "id": "08001d4c",
   "metadata": {},
   "outputs": [],
   "source": [
    "z = y*y*3"
   ]
  },
  {
   "cell_type": "code",
   "execution_count": 27,
   "id": "e017a74f",
   "metadata": {},
   "outputs": [],
   "source": [
    "out = z.mean()"
   ]
  },
  {
   "cell_type": "code",
   "execution_count": 28,
   "id": "4b7b8836",
   "metadata": {},
   "outputs": [],
   "source": [
    "out.backward()"
   ]
  },
  {
   "cell_type": "code",
   "execution_count": 29,
   "id": "b48c0465",
   "metadata": {},
   "outputs": [
    {
     "data": {
      "text/plain": [
       "tensor([[4.5000, 4.5000],\n",
       "        [4.5000, 4.5000]])"
      ]
     },
     "execution_count": 29,
     "metadata": {},
     "output_type": "execute_result"
    }
   ],
   "source": [
    "x.grad"
   ]
  },
  {
   "cell_type": "code",
   "execution_count": 30,
   "id": "add0c919",
   "metadata": {},
   "outputs": [],
   "source": [
    "x = torch.randn(3)"
   ]
  },
  {
   "cell_type": "code",
   "execution_count": 32,
   "id": "550d0894",
   "metadata": {},
   "outputs": [],
   "source": [
    "x = Variable(x, requires_grad = True)"
   ]
  },
  {
   "cell_type": "code",
   "execution_count": 33,
   "id": "1c96bba4",
   "metadata": {},
   "outputs": [],
   "source": [
    "y = x * 2"
   ]
  },
  {
   "cell_type": "code",
   "execution_count": 34,
   "id": "27fef5a4",
   "metadata": {},
   "outputs": [],
   "source": [
    "while y.data.norm()<1000:\n",
    "    y = y * 2"
   ]
  },
  {
   "cell_type": "code",
   "execution_count": 35,
   "id": "5a4bce29",
   "metadata": {},
   "outputs": [],
   "source": [
    "gradients = torch.FloatTensor([0.1,1.0,0.0001])"
   ]
  },
  {
   "cell_type": "code",
   "execution_count": 36,
   "id": "d8514353",
   "metadata": {},
   "outputs": [],
   "source": [
    "y.backward(gradients)"
   ]
  },
  {
   "cell_type": "code",
   "execution_count": 37,
   "id": "02e2d8fe",
   "metadata": {},
   "outputs": [
    {
     "data": {
      "text/plain": [
       "tensor([1.0240e+02, 1.0240e+03, 1.0240e-01])"
      ]
     },
     "execution_count": 37,
     "metadata": {},
     "output_type": "execute_result"
    }
   ],
   "source": [
    "x.grad"
   ]
  },
  {
   "cell_type": "markdown",
   "id": "5ba99f83",
   "metadata": {},
   "source": [
    "# 定义一个神经网络"
   ]
  },
  {
   "cell_type": "code",
   "execution_count": 39,
   "id": "e80c91e3",
   "metadata": {},
   "outputs": [],
   "source": [
    "import torch.nn as nn\n",
    "import torch.nn.functional as F"
   ]
  },
  {
   "cell_type": "code",
   "execution_count": 42,
   "id": "11d58094",
   "metadata": {},
   "outputs": [],
   "source": [
    "class Net(nn.Module):\n",
    "  def __init__(self):\n",
    "    super(Net, self).__init__()\n",
    "    self.conv1 = nn.Conv2d(1,6,5)\n",
    "    self.conv2 = nn.Conv2d(6,16,5)\n",
    "    self.fc1 = nn.Linear(16*5*5,120)\n",
    "    self.fc2 = nn.Linear(120, 84)\n",
    "    self.fc3 = nn.Linear(84,10)\n",
    "    \n",
    "  def forward(self,x):\n",
    "    x = F.max_pool2d(F.relu(self.conv1(x)), (2,2))\n",
    "    x = F.max_pool2d(F.relu(self.conv2(x)),2)\n",
    "    x = x.view(-1,self.num_flat_features(x))\n",
    "    x = F.relu(self.fc1(x))\n",
    "    x = F.relu(self.fc2(x))\n",
    "    x = self.fc3(x)\n",
    "    return x\n",
    "\n",
    "  def num_flat_features(self,x):\n",
    "    size = x.size()[1:]\n",
    "    num_features = 1\n",
    "    for s in size:\n",
    "        num_features *= s\n",
    "    return num_features"
   ]
  },
  {
   "cell_type": "code",
   "execution_count": 43,
   "id": "c584d0be",
   "metadata": {},
   "outputs": [],
   "source": [
    "net = Net()"
   ]
  },
  {
   "cell_type": "code",
   "execution_count": 44,
   "id": "442a40c8",
   "metadata": {},
   "outputs": [
    {
     "data": {
      "text/plain": [
       "Net(\n",
       "  (conv1): Conv2d(1, 6, kernel_size=(5, 5), stride=(1, 1))\n",
       "  (conv2): Conv2d(6, 16, kernel_size=(5, 5), stride=(1, 1))\n",
       "  (fc1): Linear(in_features=400, out_features=120, bias=True)\n",
       "  (fc2): Linear(in_features=120, out_features=84, bias=True)\n",
       "  (fc3): Linear(in_features=84, out_features=10, bias=True)\n",
       ")"
      ]
     },
     "execution_count": 44,
     "metadata": {},
     "output_type": "execute_result"
    }
   ],
   "source": [
    "net"
   ]
  },
  {
   "cell_type": "code",
   "execution_count": 45,
   "id": "483c4bcc",
   "metadata": {},
   "outputs": [],
   "source": [
    "params = list(net.parameters())"
   ]
  },
  {
   "cell_type": "code",
   "execution_count": 46,
   "id": "65b56e03",
   "metadata": {},
   "outputs": [
    {
     "name": "stdout",
     "output_type": "stream",
     "text": [
      "10\n"
     ]
    }
   ],
   "source": [
    "print(len(params))"
   ]
  },
  {
   "cell_type": "code",
   "execution_count": 47,
   "id": "091e7c27",
   "metadata": {},
   "outputs": [
    {
     "name": "stdout",
     "output_type": "stream",
     "text": [
      "torch.Size([6, 1, 5, 5])\n"
     ]
    }
   ],
   "source": [
    "print(params[0].size())"
   ]
  },
  {
   "cell_type": "code",
   "execution_count": 48,
   "id": "9037d604",
   "metadata": {},
   "outputs": [],
   "source": [
    "input = Variable(torch.randn(1,1,32,32))"
   ]
  },
  {
   "cell_type": "code",
   "execution_count": 49,
   "id": "c1366175",
   "metadata": {},
   "outputs": [],
   "source": [
    "out = net(input)"
   ]
  },
  {
   "cell_type": "code",
   "execution_count": 50,
   "id": "d095ba35",
   "metadata": {},
   "outputs": [],
   "source": [
    "net.zero_grad()"
   ]
  },
  {
   "cell_type": "code",
   "execution_count": 51,
   "id": "d58d8d28",
   "metadata": {},
   "outputs": [],
   "source": [
    "out.backward(torch.randn(1,10))"
   ]
  },
  {
   "cell_type": "code",
   "execution_count": null,
   "id": "4f1a7661",
   "metadata": {},
   "outputs": [],
   "source": []
  },
  {
   "cell_type": "code",
   "execution_count": null,
   "id": "7574f9c9",
   "metadata": {},
   "outputs": [],
   "source": []
  }
 ],
 "metadata": {
  "kernelspec": {
   "display_name": "Python 3 (ipykernel)",
   "language": "python",
   "name": "python3"
  },
  "language_info": {
   "codemirror_mode": {
    "name": "ipython",
    "version": 3
   },
   "file_extension": ".py",
   "mimetype": "text/x-python",
   "name": "python",
   "nbconvert_exporter": "python",
   "pygments_lexer": "ipython3",
   "version": "3.8.15"
  }
 },
 "nbformat": 4,
 "nbformat_minor": 5
}
